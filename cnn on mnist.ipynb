{
 "cells": [
  {
   "cell_type": "code",
   "execution_count": 4,
   "id": "f03351b0",
   "metadata": {},
   "outputs": [],
   "source": [
    "#mnist data set using cnn\n",
    "import os\n",
    "import pandas\n",
    "import numpy\n",
    "import tensorflow as tf\n",
    "(train_images,train_labels),(test_images,test_labels)= tf.keras.datasets.mnist.load_data()"
   ]
  },
  {
   "cell_type": "code",
   "execution_count": 6,
   "id": "e0abd236",
   "metadata": {},
   "outputs": [],
   "source": [
    "train_images=train_images.reshape((60000,28,28,1)) #so keras can convert it into a one hot array\n",
    "train_images=train_images.astype('float32')/255\n",
    "test_images=test_images.reshape((10000,28,28,1))\n",
    "test_images=test_images.astype('float32')/255\n",
    "\n",
    "from keras.utils import to_categorical\n",
    "train_labels = to_categorical(train_labels)\n",
    "test_labels = to_categorical(test_labels)"
   ]
  },
  {
   "cell_type": "code",
   "execution_count": 8,
   "id": "02eca867",
   "metadata": {},
   "outputs": [
    {
     "name": "stdout",
     "output_type": "stream",
     "text": [
      "Model: \"sequential\"\n",
      "_________________________________________________________________\n",
      " Layer (type)                Output Shape              Param #   \n",
      "=================================================================\n",
      " conv2d (Conv2D)             (None, 26, 26, 32)        320       \n",
      "                                                                 \n",
      " max_pooling2d (MaxPooling2D  (None, 13, 13, 32)       0         \n",
      " )                                                               \n",
      "                                                                 \n",
      " conv2d_1 (Conv2D)           (None, 11, 11, 64)        18496     \n",
      "                                                                 \n",
      " max_pooling2d_1 (MaxPooling  (None, 5, 5, 64)         0         \n",
      " 2D)                                                             \n",
      "                                                                 \n",
      " conv2d_2 (Conv2D)           (None, 3, 3, 64)          36928     \n",
      "                                                                 \n",
      " max_pooling2d_2 (MaxPooling  (None, 1, 1, 64)         0         \n",
      " 2D)                                                             \n",
      "                                                                 \n",
      " flatten (Flatten)           (None, 64)                0         \n",
      "                                                                 \n",
      " dense (Dense)               (None, 64)                4160      \n",
      "                                                                 \n",
      " dense_1 (Dense)             (None, 10)                650       \n",
      "                                                                 \n",
      "=================================================================\n",
      "Total params: 60,554\n",
      "Trainable params: 60,554\n",
      "Non-trainable params: 0\n",
      "_________________________________________________________________\n"
     ]
    }
   ],
   "source": [
    "from keras import layers\n",
    "from keras import models\n",
    "model=models.Sequential()\n",
    "model.add(layers.Conv2D(32,(3,3),activation='relu',input_shape=(28,28,1))) #32 kernels of size 3x3 over the input \n",
    "model.add(layers.MaxPooling2D((2,2)))\n",
    "model.add(layers.Conv2D(64,(3,3),activation='relu'))# 64 kernels of 3x3 over the reduced input from maxpooling\n",
    "model.add(layers.MaxPooling2D((2,2)))\n",
    "model.add(layers.Conv2D(64,(3,3),activation='relu'))#same as above\n",
    "model.add(layers.MaxPooling2D((2,2)))\n",
    "model.add(layers.Flatten())\n",
    "model.add(layers.Dense(64,activation='relu'))#dense layers in the end to evaluate the flattended 2d to 1d array\n",
    "model.add(layers.Dense(10,activation='softmax'))#classification using softmax funtion in the probability between 0-9\n",
    "\n",
    "model.summary()"
   ]
  },
  {
   "cell_type": "code",
   "execution_count": 18,
   "id": "892223bc",
   "metadata": {},
   "outputs": [],
   "source": [
    "model.compile(optimizer=\"rmsprop\",loss='categorical_crossentropy',metrics=['accuracy'])#used rmsprop instead of adam"
   ]
  },
  {
   "cell_type": "code",
   "execution_count": 20,
   "id": "6d4331be",
   "metadata": {
    "scrolled": false
   },
   "outputs": [
    {
     "name": "stdout",
     "output_type": "stream",
     "text": [
      "Epoch 1/5\n",
      "938/938 [==============================] - 17s 17ms/step - loss: 0.0380 - accuracy: 0.9876\n",
      "Epoch 2/5\n",
      "938/938 [==============================] - 15s 16ms/step - loss: 0.0359 - accuracy: 0.9885\n",
      "Epoch 3/5\n",
      "938/938 [==============================] - 16s 17ms/step - loss: 0.0344 - accuracy: 0.9891\n",
      "Epoch 4/5\n",
      "938/938 [==============================] - 15s 16ms/step - loss: 0.0323 - accuracy: 0.9897\n",
      "Epoch 5/5\n",
      "938/938 [==============================] - 15s 16ms/step - loss: 0.0310 - accuracy: 0.9902\n"
     ]
    },
    {
     "data": {
      "text/plain": [
       "<keras.callbacks.History at 0x1d79cd99be0>"
      ]
     },
     "execution_count": 20,
     "metadata": {},
     "output_type": "execute_result"
    }
   ],
   "source": [
    "model.fit(train_images,train_labels,epochs=5,batch_size=64) #training the model"
   ]
  },
  {
   "cell_type": "code",
   "execution_count": 19,
   "id": "c832ebd7",
   "metadata": {
    "scrolled": true
   },
   "outputs": [
    {
     "name": "stdout",
     "output_type": "stream",
     "text": [
      "313/313 [==============================] - 1s 4ms/step - loss: 214.8007 - accuracy: 0.7284\n"
     ]
    },
    {
     "data": {
      "text/plain": [
       "[214.80067443847656, 0.7283999919891357]"
      ]
     },
     "execution_count": 19,
     "metadata": {},
     "output_type": "execute_result"
    }
   ],
   "source": [
    "model.evaluate(test_images,test_labels)#testing the model"
   ]
  },
  {
   "cell_type": "code",
   "execution_count": null,
   "id": "e43b3f70",
   "metadata": {},
   "outputs": [],
   "source": []
  },
  {
   "cell_type": "code",
   "execution_count": null,
   "id": "6e0d3359",
   "metadata": {},
   "outputs": [],
   "source": []
  }
 ],
 "metadata": {
  "kernelspec": {
   "display_name": "Python 3 (ipykernel)",
   "language": "python",
   "name": "python3"
  },
  "language_info": {
   "codemirror_mode": {
    "name": "ipython",
    "version": 3
   },
   "file_extension": ".py",
   "mimetype": "text/x-python",
   "name": "python",
   "nbconvert_exporter": "python",
   "pygments_lexer": "ipython3",
   "version": "3.9.15"
  }
 },
 "nbformat": 4,
 "nbformat_minor": 5
}
